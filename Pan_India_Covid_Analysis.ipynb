{
  "nbformat": 4,
  "nbformat_minor": 0,
  "metadata": {
    "colab": {
      "name": "Pan_India_Covid_Analysis.ipynb",
      "provenance": [],
      "collapsed_sections": [],
      "mount_file_id": "1J0-hVs-2N-AUyC7KILNv7yYOzsvnRaPD",
      "authorship_tag": "ABX9TyOXVDxNfFIE2zksJhacVZw2",
      "include_colab_link": true
    },
    "kernelspec": {
      "name": "python3",
      "display_name": "Python 3"
    },
    "language_info": {
      "name": "python"
    }
  },
  "cells": [
    {
      "cell_type": "markdown",
      "metadata": {
        "id": "view-in-github",
        "colab_type": "text"
      },
      "source": [
        "<a href=\"https://colab.research.google.com/github/sanjay-1712/PAN-INDIA-COVID19-ANALYSIS/blob/main/Pan_India_Covid_Analysis.ipynb\" target=\"_parent\"><img src=\"https://colab.research.google.com/assets/colab-badge.svg\" alt=\"Open In Colab\"/></a>"
      ]
    },
    {
      "cell_type": "code",
      "execution_count": 1,
      "metadata": {
        "colab": {
          "base_uri": "https://localhost:8080/"
        },
        "id": "0cCCeTHRJLI0",
        "outputId": "26e7edbe-4edc-4c12-e4e7-09544a115199"
      },
      "outputs": [
        {
          "output_type": "execute_result",
          "data": {
            "text/plain": [
              "<bound method NDFrame.head of            State Name  Totaltests   Positivecasespercent\n",
              "0      Andhra Pradesh        1714                   8.83\n",
              "1   Arunachal Pradesh        1664                   4.56\n",
              "2               Assam        1760                   4.07\n",
              "3              Bihar         1685                   1.66\n",
              "4          Chandigarh        1693                  12.46\n",
              "5        Chhattisgarh        1670                   9.49\n",
              "6               Delhi        1764                   9.13\n",
              "7                 Goa        1764                  13.96\n",
              "8             Gujarat        1792                   2.70\n",
              "9             Haryana        1850                   6.88\n",
              "10   Himachal Pradesh        1735                   7.28\n",
              "11    Jammu & Kashmir        1775                   3.74\n",
              "12          Jharkhand        1735                   2.73\n",
              "13          Karnataka        1712                   8.31\n",
              "14             Kerala        1773                   9.61\n",
              "15             Ladakh        1872                   8.88\n",
              "16     Madhya Pradesh        1755                   5.51\n",
              "17        Maharashtra        1674                  17.11\n",
              "18            Manipur        1842                   6.03\n",
              "19          Meghalaya        1786                   4.92\n",
              "20            Mizoram        1761                   2.62\n",
              "21           Nagaland        1722                   8.55\n",
              "22             Odisha        1663                   5.52\n",
              "23             Punjab        1687                   4.83\n",
              "24          Rajasthan        1974                   5.96\n",
              "25             Sikkim        1826                   7.85\n",
              "26         Tamil Nadu        1787                   6.60\n",
              "27         Telangana         1821                   5.05\n",
              "28            Tripura        2020                   6.27\n",
              "29        Uttarakhand        1794                   5.55\n",
              "30     Uttar Pradesh         1769                   2.89\n",
              "31        West Bengal        1934                   8.26>"
            ]
          },
          "metadata": {},
          "execution_count": 1
        }
      ],
      "source": [
        "# imports\n",
        "import pandas as pd\n",
        "import matplotlib.pyplot as plt\n",
        "import warnings \n",
        "warnings.filterwarnings('ignore')\n",
        "\n",
        "# this used for linear regression\n",
        "import statsmodels.api as sm\n",
        "\n",
        "# read data into a DataFrame\n",
        "data = pd.read_csv('/content/drive/MyDrive/AMVSA_ INDIA COVID 19 ANALYSIS PROJECT.csv')\n",
        "#visualize the DataFrame\n",
        "data.head"
      ]
    },
    {
      "cell_type": "code",
      "source": [
        "#This is a pandas method which will give us the most useful descriptive statistics for each column in the data frame – number of observations, mean, standard deviation, and so on.\n",
        "data.describe()"
      ],
      "metadata": {
        "colab": {
          "base_uri": "https://localhost:8080/",
          "height": 300
        },
        "id": "fy8WJsRWKJTQ",
        "outputId": "2d2fa8cb-cc98-495f-fc74-c134e3004a4a"
      },
      "execution_count": 2,
      "outputs": [
        {
          "output_type": "execute_result",
          "data": {
            "text/plain": [
              "        Totaltests   Positivecasespercent\n",
              "count    32.000000              32.000000\n",
              "mean   1774.156250               6.806563\n",
              "std      86.788623               3.401940\n",
              "min    1663.000000               1.660000\n",
              "25%    1713.500000               4.762500\n",
              "50%    1764.000000               6.150000\n",
              "75%    1800.750000               8.620000\n",
              "max    2020.000000              17.110000"
            ],
            "text/html": [
              "\n",
              "  <div id=\"df-b0194665-dcdf-4404-a018-02744951c396\">\n",
              "    <div class=\"colab-df-container\">\n",
              "      <div>\n",
              "<style scoped>\n",
              "    .dataframe tbody tr th:only-of-type {\n",
              "        vertical-align: middle;\n",
              "    }\n",
              "\n",
              "    .dataframe tbody tr th {\n",
              "        vertical-align: top;\n",
              "    }\n",
              "\n",
              "    .dataframe thead th {\n",
              "        text-align: right;\n",
              "    }\n",
              "</style>\n",
              "<table border=\"1\" class=\"dataframe\">\n",
              "  <thead>\n",
              "    <tr style=\"text-align: right;\">\n",
              "      <th></th>\n",
              "      <th>Totaltests</th>\n",
              "      <th>Positivecasespercent</th>\n",
              "    </tr>\n",
              "  </thead>\n",
              "  <tbody>\n",
              "    <tr>\n",
              "      <th>count</th>\n",
              "      <td>32.000000</td>\n",
              "      <td>32.000000</td>\n",
              "    </tr>\n",
              "    <tr>\n",
              "      <th>mean</th>\n",
              "      <td>1774.156250</td>\n",
              "      <td>6.806563</td>\n",
              "    </tr>\n",
              "    <tr>\n",
              "      <th>std</th>\n",
              "      <td>86.788623</td>\n",
              "      <td>3.401940</td>\n",
              "    </tr>\n",
              "    <tr>\n",
              "      <th>min</th>\n",
              "      <td>1663.000000</td>\n",
              "      <td>1.660000</td>\n",
              "    </tr>\n",
              "    <tr>\n",
              "      <th>25%</th>\n",
              "      <td>1713.500000</td>\n",
              "      <td>4.762500</td>\n",
              "    </tr>\n",
              "    <tr>\n",
              "      <th>50%</th>\n",
              "      <td>1764.000000</td>\n",
              "      <td>6.150000</td>\n",
              "    </tr>\n",
              "    <tr>\n",
              "      <th>75%</th>\n",
              "      <td>1800.750000</td>\n",
              "      <td>8.620000</td>\n",
              "    </tr>\n",
              "    <tr>\n",
              "      <th>max</th>\n",
              "      <td>2020.000000</td>\n",
              "      <td>17.110000</td>\n",
              "    </tr>\n",
              "  </tbody>\n",
              "</table>\n",
              "</div>\n",
              "      <button class=\"colab-df-convert\" onclick=\"convertToInteractive('df-b0194665-dcdf-4404-a018-02744951c396')\"\n",
              "              title=\"Convert this dataframe to an interactive table.\"\n",
              "              style=\"display:none;\">\n",
              "        \n",
              "  <svg xmlns=\"http://www.w3.org/2000/svg\" height=\"24px\"viewBox=\"0 0 24 24\"\n",
              "       width=\"24px\">\n",
              "    <path d=\"M0 0h24v24H0V0z\" fill=\"none\"/>\n",
              "    <path d=\"M18.56 5.44l.94 2.06.94-2.06 2.06-.94-2.06-.94-.94-2.06-.94 2.06-2.06.94zm-11 1L8.5 8.5l.94-2.06 2.06-.94-2.06-.94L8.5 2.5l-.94 2.06-2.06.94zm10 10l.94 2.06.94-2.06 2.06-.94-2.06-.94-.94-2.06-.94 2.06-2.06.94z\"/><path d=\"M17.41 7.96l-1.37-1.37c-.4-.4-.92-.59-1.43-.59-.52 0-1.04.2-1.43.59L10.3 9.45l-7.72 7.72c-.78.78-.78 2.05 0 2.83L4 21.41c.39.39.9.59 1.41.59.51 0 1.02-.2 1.41-.59l7.78-7.78 2.81-2.81c.8-.78.8-2.07 0-2.86zM5.41 20L4 18.59l7.72-7.72 1.47 1.35L5.41 20z\"/>\n",
              "  </svg>\n",
              "      </button>\n",
              "      \n",
              "  <style>\n",
              "    .colab-df-container {\n",
              "      display:flex;\n",
              "      flex-wrap:wrap;\n",
              "      gap: 12px;\n",
              "    }\n",
              "\n",
              "    .colab-df-convert {\n",
              "      background-color: #E8F0FE;\n",
              "      border: none;\n",
              "      border-radius: 50%;\n",
              "      cursor: pointer;\n",
              "      display: none;\n",
              "      fill: #1967D2;\n",
              "      height: 32px;\n",
              "      padding: 0 0 0 0;\n",
              "      width: 32px;\n",
              "    }\n",
              "\n",
              "    .colab-df-convert:hover {\n",
              "      background-color: #E2EBFA;\n",
              "      box-shadow: 0px 1px 2px rgba(60, 64, 67, 0.3), 0px 1px 3px 1px rgba(60, 64, 67, 0.15);\n",
              "      fill: #174EA6;\n",
              "    }\n",
              "\n",
              "    [theme=dark] .colab-df-convert {\n",
              "      background-color: #3B4455;\n",
              "      fill: #D2E3FC;\n",
              "    }\n",
              "\n",
              "    [theme=dark] .colab-df-convert:hover {\n",
              "      background-color: #434B5C;\n",
              "      box-shadow: 0px 1px 3px 1px rgba(0, 0, 0, 0.15);\n",
              "      filter: drop-shadow(0px 1px 2px rgba(0, 0, 0, 0.3));\n",
              "      fill: #FFFFFF;\n",
              "    }\n",
              "  </style>\n",
              "\n",
              "      <script>\n",
              "        const buttonEl =\n",
              "          document.querySelector('#df-b0194665-dcdf-4404-a018-02744951c396 button.colab-df-convert');\n",
              "        buttonEl.style.display =\n",
              "          google.colab.kernel.accessAllowed ? 'block' : 'none';\n",
              "\n",
              "        async function convertToInteractive(key) {\n",
              "          const element = document.querySelector('#df-b0194665-dcdf-4404-a018-02744951c396');\n",
              "          const dataTable =\n",
              "            await google.colab.kernel.invokeFunction('convertToInteractive',\n",
              "                                                     [key], {});\n",
              "          if (!dataTable) return;\n",
              "\n",
              "          const docLinkHtml = 'Like what you see? Visit the ' +\n",
              "            '<a target=\"_blank\" href=https://colab.research.google.com/notebooks/data_table.ipynb>data table notebook</a>'\n",
              "            + ' to learn more about interactive tables.';\n",
              "          element.innerHTML = '';\n",
              "          dataTable['output_type'] = 'display_data';\n",
              "          await google.colab.output.renderOutput(dataTable, element);\n",
              "          const docLink = document.createElement('div');\n",
              "          docLink.innerHTML = docLinkHtml;\n",
              "          element.appendChild(docLink);\n",
              "        }\n",
              "      </script>\n",
              "    </div>\n",
              "  </div>\n",
              "  "
            ]
          },
          "metadata": {},
          "execution_count": 2
        }
      ]
    },
    {
      "cell_type": "code",
      "source": [
        "#Creating our First Regression in Python\n",
        "#Assigning The Independent Variable(y) and The Dependent Variable(x1)\n",
        "y = data[' Positivecasespercent']\n",
        "x1 = data['Totaltests']"
      ],
      "metadata": {
        "id": "H64_J2gUKp8e"
      },
      "execution_count": 3,
      "outputs": []
    },
    {
      "cell_type": "code",
      "source": [
        "#Exploring the Data\n",
        "#Scatter Plot resltionship between the variables\n",
        "plt.scatter(x1,y)\n",
        "plt.xlabel('Totaltests (in million)', fontsize = 20)\n",
        "plt.ylabel('Positivecases(%)', fontsize = 20)\n",
        "plt.show()"
      ],
      "metadata": {
        "colab": {
          "base_uri": "https://localhost:8080/",
          "height": 288
        },
        "id": "GXz3tgP0K-KJ",
        "outputId": "2ace1bea-cd35-4002-8f89-00c674bf189d"
      },
      "execution_count": 4,
      "outputs": [
        {
          "output_type": "display_data",
          "data": {
            "text/plain": [
              "<Figure size 432x288 with 1 Axes>"
            ],
            "image/png": "[encoded data removed]"
          },
          "metadata": {
            "needs_background": "light"
          }
        }
      ]
    },
    {
      "cell_type": "code",
      "source": [
        "#Displaying the Regression Results\n",
        "x = sm.add_constant(x1)\n",
        "results = sm.OLS(y,x).fit()\n",
        "results.summary()"
      ],
      "metadata": {
        "colab": {
          "base_uri": "https://localhost:8080/",
          "height": 478
        },
        "id": "Ac5AycKDZdd9",
        "outputId": "e1914d3f-841c-45ef-b2a9-7570087f53fe"
      },
      "execution_count": 5,
      "outputs": [
        {
          "output_type": "execute_result",
          "data": {
            "text/plain": [
              "<class 'statsmodels.iolib.summary.Summary'>\n",
              "\"\"\"\n",
              "                              OLS Regression Results                             \n",
              "=================================================================================\n",
              "Dep. Variable:      Positivecasespercent   R-squared:                       0.011\n",
              "Model:                               OLS   Adj. R-squared:                 -0.022\n",
              "Method:                    Least Squares   F-statistic:                    0.3207\n",
              "Date:                   Sun, 24 Apr 2022   Prob (F-statistic):              0.575\n",
              "Time:                           16:19:47   Log-Likelihood:                -83.907\n",
              "No. Observations:                     32   AIC:                             171.8\n",
              "Df Residuals:                         30   BIC:                             174.7\n",
              "Df Model:                              1                                         \n",
              "Covariance Type:               nonrobust                                         \n",
              "==============================================================================\n",
              "                 coef    std err          t      P>|t|      [0.025      0.975]\n",
              "------------------------------------------------------------------------------\n",
              "const         13.9587     12.644      1.104      0.278     -11.864      39.782\n",
              "Totaltests    -0.0040      0.007     -0.566      0.575      -0.019       0.011\n",
              "==============================================================================\n",
              "Omnibus:                        6.775   Durbin-Watson:                   2.057\n",
              "Prob(Omnibus):                  0.034   Jarque-Bera (JB):                5.103\n",
              "Skew:                           0.859   Prob(JB):                       0.0780\n",
              "Kurtosis:                       3.934   Cond. No.                     3.69e+04\n",
              "==============================================================================\n",
              "\n",
              "Warnings:\n",
              "[1] Standard Errors assume that the covariance matrix of the errors is correctly specified.\n",
              "[2] The condition number is large, 3.69e+04. This might indicate that there are\n",
              "strong multicollinearity or other numerical problems.\n",
              "\"\"\""
            ],
            "text/html": [
              "<table class=\"simpletable\">\n",
              "<caption>OLS Regression Results</caption>\n",
              "<tr>\n",
              "  <th>Dep. Variable:</th>    <td> Positivecasespercent</td> <th>  R-squared:         </th> <td>   0.011</td>\n",
              "</tr>\n",
              "<tr>\n",
              "  <th>Model:</th>                     <td>OLS</td>          <th>  Adj. R-squared:    </th> <td>  -0.022</td>\n",
              "</tr>\n",
              "<tr>\n",
              "  <th>Method:</th>               <td>Least Squares</td>     <th>  F-statistic:       </th> <td>  0.3207</td>\n",
              "</tr>\n",
              "<tr>\n",
              "  <th>Date:</th>               <td>Sun, 24 Apr 2022</td>    <th>  Prob (F-statistic):</th>  <td> 0.575</td> \n",
              "</tr>\n",
              "<tr>\n",
              "  <th>Time:</th>                   <td>16:19:47</td>        <th>  Log-Likelihood:    </th> <td> -83.907</td>\n",
              "</tr>\n",
              "<tr>\n",
              "  <th>No. Observations:</th>        <td>    32</td>         <th>  AIC:               </th> <td>   171.8</td>\n",
              "</tr>\n",
              "<tr>\n",
              "  <th>Df Residuals:</th>            <td>    30</td>         <th>  BIC:               </th> <td>   174.7</td>\n",
              "</tr>\n",
              "<tr>\n",
              "  <th>Df Model:</th>                <td>     1</td>         <th>                     </th>     <td> </td>   \n",
              "</tr>\n",
              "<tr>\n",
              "  <th>Covariance Type:</th>        <td>nonrobust</td>       <th>                     </th>     <td> </td>   \n",
              "</tr>\n",
              "</table>\n",
              "<table class=\"simpletable\">\n",
              "<tr>\n",
              "       <td></td>         <th>coef</th>     <th>std err</th>      <th>t</th>      <th>P>|t|</th>  <th>[0.025</th>    <th>0.975]</th>  \n",
              "</tr>\n",
              "<tr>\n",
              "  <th>const</th>      <td>   13.9587</td> <td>   12.644</td> <td>    1.104</td> <td> 0.278</td> <td>  -11.864</td> <td>   39.782</td>\n",
              "</tr>\n",
              "<tr>\n",
              "  <th>Totaltests</th> <td>   -0.0040</td> <td>    0.007</td> <td>   -0.566</td> <td> 0.575</td> <td>   -0.019</td> <td>    0.011</td>\n",
              "</tr>\n",
              "</table>\n",
              "<table class=\"simpletable\">\n",
              "<tr>\n",
              "  <th>Omnibus:</th>       <td> 6.775</td> <th>  Durbin-Watson:     </th> <td>   2.057</td>\n",
              "</tr>\n",
              "<tr>\n",
              "  <th>Prob(Omnibus):</th> <td> 0.034</td> <th>  Jarque-Bera (JB):  </th> <td>   5.103</td>\n",
              "</tr>\n",
              "<tr>\n",
              "  <th>Skew:</th>          <td> 0.859</td> <th>  Prob(JB):          </th> <td>  0.0780</td>\n",
              "</tr>\n",
              "<tr>\n",
              "  <th>Kurtosis:</th>      <td> 3.934</td> <th>  Cond. No.          </th> <td>3.69e+04</td>\n",
              "</tr>\n",
              "</table><br/><br/>Warnings:<br/>[1] Standard Errors assume that the covariance matrix of the errors is correctly specified.<br/>[2] The condition number is large, 3.69e+04. This might indicate that there are<br/>strong multicollinearity or other numerical problems."
            ]
          },
          "metadata": {},
          "execution_count": 5
        }
      ]
    },
    {
      "cell_type": "code",
      "source": [
        "#Plotting the Regression line\n",
        "plt.scatter(x1,y)\n",
        "yhat = -0.0040*x1 + 13.9587\n",
        "fig = plt.plot(x1,yhat, lw=4, c='orange', label = 'regression line')\n",
        "plt.xlabel('Totaltests (in million)', fontsize = 20)\n",
        "plt.ylabel('Positivecases(%)', fontsize = 20)\n",
        "plt.show()"
      ],
      "metadata": {
        "colab": {
          "base_uri": "https://localhost:8080/",
          "height": 288
        },
        "id": "BDjlT8fLZgmh",
        "outputId": "60738d35-f900-4da7-ec7a-3ada8de48f28"
      },
      "execution_count": 6,
      "outputs": [
        {
          "output_type": "display_data",
          "data": {
            "text/plain": [
              "<Figure size 432x288 with 1 Axes>"
            ],
            "image/png": "[encoded data removed]"
          },
          "metadata": {
            "needs_background": "light"
          }
        }
      ]
    }
  ]
}