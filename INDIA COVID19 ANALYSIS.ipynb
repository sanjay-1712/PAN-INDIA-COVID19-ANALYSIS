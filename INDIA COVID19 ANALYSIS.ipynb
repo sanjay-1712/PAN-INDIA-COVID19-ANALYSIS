# imports
import pandas as pd
import matplotlib.pyplot as plt

# this used for linear regression
import statsmodels.api as sm

# read data into a DataFrame
data = pd.read_csv('/content/drive/MyDrive/AMVSA_ INDIA COVID 19 ANALYSIS PROJECT.csv')

#visualize the DataFrame
data.head
